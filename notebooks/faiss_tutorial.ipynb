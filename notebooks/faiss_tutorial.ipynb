{
 "cells": [
  {
   "cell_type": "code",
   "execution_count": 35,
   "metadata": {},
   "outputs": [
    {
     "name": "stderr",
     "output_type": "stream",
     "text": [
      "huggingface/tokenizers: The current process just got forked, after parallelism has already been used. Disabling parallelism to avoid deadlocks...\n",
      "To disable this warning, you can either:\n",
      "\t- Avoid using `tokenizers` before the fork if possible\n",
      "\t- Explicitly set the environment variable TOKENIZERS_PARALLELISM=(true | false)\n"
     ]
    },
    {
     "name": "stdout",
     "output_type": "stream",
     "text": [
      "Requirement already satisfied: faiss-cpu in ./venv/lib/python3.11/site-packages (1.7.4)\n",
      "Note: you may need to restart the kernel to use updated packages.\n"
     ]
    },
    {
     "name": "stderr",
     "output_type": "stream",
     "text": [
      "huggingface/tokenizers: The current process just got forked, after parallelism has already been used. Disabling parallelism to avoid deadlocks...\n",
      "To disable this warning, you can either:\n",
      "\t- Avoid using `tokenizers` before the fork if possible\n",
      "\t- Explicitly set the environment variable TOKENIZERS_PARALLELISM=(true | false)\n"
     ]
    },
    {
     "name": "stdout",
     "output_type": "stream",
     "text": [
      "Requirement already satisfied: sentence-transformers in ./venv/lib/python3.11/site-packages (2.3.1)\n",
      "Requirement already satisfied: transformers<5.0.0,>=4.32.0 in ./venv/lib/python3.11/site-packages (from sentence-transformers) (4.37.2)\n",
      "Requirement already satisfied: tqdm in ./venv/lib/python3.11/site-packages (from sentence-transformers) (4.66.2)\n",
      "Requirement already satisfied: torch>=1.11.0 in ./venv/lib/python3.11/site-packages (from sentence-transformers) (2.2.0)\n",
      "Requirement already satisfied: numpy in ./venv/lib/python3.11/site-packages (from sentence-transformers) (1.26.4)\n",
      "Requirement already satisfied: scikit-learn in ./venv/lib/python3.11/site-packages (from sentence-transformers) (1.4.1.post1)\n",
      "Requirement already satisfied: scipy in ./venv/lib/python3.11/site-packages (from sentence-transformers) (1.12.0)\n",
      "Requirement already satisfied: nltk in ./venv/lib/python3.11/site-packages (from sentence-transformers) (3.8.1)\n",
      "Requirement already satisfied: sentencepiece in ./venv/lib/python3.11/site-packages (from sentence-transformers) (0.2.0)\n",
      "Requirement already satisfied: huggingface-hub>=0.15.1 in ./venv/lib/python3.11/site-packages (from sentence-transformers) (0.20.3)\n",
      "Requirement already satisfied: Pillow in ./venv/lib/python3.11/site-packages (from sentence-transformers) (10.2.0)\n",
      "Requirement already satisfied: filelock in ./venv/lib/python3.11/site-packages (from huggingface-hub>=0.15.1->sentence-transformers) (3.13.1)\n",
      "Requirement already satisfied: fsspec>=2023.5.0 in ./venv/lib/python3.11/site-packages (from huggingface-hub>=0.15.1->sentence-transformers) (2024.2.0)\n",
      "Requirement already satisfied: requests in ./venv/lib/python3.11/site-packages (from huggingface-hub>=0.15.1->sentence-transformers) (2.31.0)\n",
      "Requirement already satisfied: pyyaml>=5.1 in ./venv/lib/python3.11/site-packages (from huggingface-hub>=0.15.1->sentence-transformers) (6.0.1)\n",
      "Requirement already satisfied: typing-extensions>=3.7.4.3 in ./venv/lib/python3.11/site-packages (from huggingface-hub>=0.15.1->sentence-transformers) (4.9.0)\n",
      "Requirement already satisfied: packaging>=20.9 in ./venv/lib/python3.11/site-packages (from huggingface-hub>=0.15.1->sentence-transformers) (23.2)\n",
      "Requirement already satisfied: sympy in ./venv/lib/python3.11/site-packages (from torch>=1.11.0->sentence-transformers) (1.12)\n",
      "Requirement already satisfied: networkx in ./venv/lib/python3.11/site-packages (from torch>=1.11.0->sentence-transformers) (3.2.1)\n",
      "Requirement already satisfied: jinja2 in ./venv/lib/python3.11/site-packages (from torch>=1.11.0->sentence-transformers) (3.1.3)\n",
      "Requirement already satisfied: regex!=2019.12.17 in ./venv/lib/python3.11/site-packages (from transformers<5.0.0,>=4.32.0->sentence-transformers) (2023.12.25)\n",
      "Requirement already satisfied: tokenizers<0.19,>=0.14 in ./venv/lib/python3.11/site-packages (from transformers<5.0.0,>=4.32.0->sentence-transformers) (0.15.2)\n",
      "Requirement already satisfied: safetensors>=0.4.1 in ./venv/lib/python3.11/site-packages (from transformers<5.0.0,>=4.32.0->sentence-transformers) (0.4.2)\n",
      "Requirement already satisfied: click in ./venv/lib/python3.11/site-packages (from nltk->sentence-transformers) (8.1.7)\n",
      "Requirement already satisfied: joblib in ./venv/lib/python3.11/site-packages (from nltk->sentence-transformers) (1.3.2)\n",
      "Requirement already satisfied: threadpoolctl>=2.0.0 in ./venv/lib/python3.11/site-packages (from scikit-learn->sentence-transformers) (3.3.0)\n",
      "Requirement already satisfied: MarkupSafe>=2.0 in ./venv/lib/python3.11/site-packages (from jinja2->torch>=1.11.0->sentence-transformers) (2.1.5)\n",
      "Requirement already satisfied: charset-normalizer<4,>=2 in ./venv/lib/python3.11/site-packages (from requests->huggingface-hub>=0.15.1->sentence-transformers) (3.3.2)\n",
      "Requirement already satisfied: idna<4,>=2.5 in ./venv/lib/python3.11/site-packages (from requests->huggingface-hub>=0.15.1->sentence-transformers) (3.6)\n",
      "Requirement already satisfied: urllib3<3,>=1.21.1 in ./venv/lib/python3.11/site-packages (from requests->huggingface-hub>=0.15.1->sentence-transformers) (2.2.0)\n",
      "Requirement already satisfied: certifi>=2017.4.17 in ./venv/lib/python3.11/site-packages (from requests->huggingface-hub>=0.15.1->sentence-transformers) (2024.2.2)\n",
      "Requirement already satisfied: mpmath>=0.19 in ./venv/lib/python3.11/site-packages (from sympy->torch>=1.11.0->sentence-transformers) (1.3.0)\n",
      "Note: you may need to restart the kernel to use updated packages.\n"
     ]
    }
   ],
   "source": [
    "#Install packages\n",
    "\n",
    "%pip install faiss-cpu\n",
    "%pip install sentence-transformers "
   ]
  },
  {
   "cell_type": "code",
   "execution_count": 1,
   "metadata": {},
   "outputs": [],
   "source": [
    "import pandas as pd\n",
    "pd.set_option('display.max_colwidth', 100)"
   ]
  },
  {
   "cell_type": "code",
   "execution_count": 2,
   "metadata": {},
   "outputs": [
    {
     "data": {
      "text/plain": [
       "(8, 2)"
      ]
     },
     "execution_count": 2,
     "metadata": {},
     "output_type": "execute_result"
    }
   ],
   "source": [
    "df = pd.read_csv('sample_text.csv')\n",
    "df.shape"
   ]
  },
  {
   "cell_type": "code",
   "execution_count": 3,
   "metadata": {},
   "outputs": [
    {
     "data": {
      "text/html": [
       "<div>\n",
       "<style scoped>\n",
       "    .dataframe tbody tr th:only-of-type {\n",
       "        vertical-align: middle;\n",
       "    }\n",
       "\n",
       "    .dataframe tbody tr th {\n",
       "        vertical-align: top;\n",
       "    }\n",
       "\n",
       "    .dataframe thead th {\n",
       "        text-align: right;\n",
       "    }\n",
       "</style>\n",
       "<table border=\"1\" class=\"dataframe\">\n",
       "  <thead>\n",
       "    <tr style=\"text-align: right;\">\n",
       "      <th></th>\n",
       "      <th>text</th>\n",
       "      <th>category</th>\n",
       "    </tr>\n",
       "  </thead>\n",
       "  <tbody>\n",
       "    <tr>\n",
       "      <th>0</th>\n",
       "      <td>Meditation and yoga can improve mental health</td>\n",
       "      <td>Health</td>\n",
       "    </tr>\n",
       "    <tr>\n",
       "      <th>1</th>\n",
       "      <td>Fruits, whole grains and vegetables helps control blood pressure</td>\n",
       "      <td>Health</td>\n",
       "    </tr>\n",
       "    <tr>\n",
       "      <th>2</th>\n",
       "      <td>These are the latest fashion trends for this week</td>\n",
       "      <td>Fashion</td>\n",
       "    </tr>\n",
       "    <tr>\n",
       "      <th>3</th>\n",
       "      <td>Vibrant color jeans for male are becoming a trend</td>\n",
       "      <td>Fashion</td>\n",
       "    </tr>\n",
       "    <tr>\n",
       "      <th>4</th>\n",
       "      <td>The concert starts at 7 PM tonight</td>\n",
       "      <td>Event</td>\n",
       "    </tr>\n",
       "    <tr>\n",
       "      <th>5</th>\n",
       "      <td>Navaratri dandiya program at Expo center in Mumbai this october</td>\n",
       "      <td>Event</td>\n",
       "    </tr>\n",
       "    <tr>\n",
       "      <th>6</th>\n",
       "      <td>Exciting vacation destinations for your next trip</td>\n",
       "      <td>Travel</td>\n",
       "    </tr>\n",
       "    <tr>\n",
       "      <th>7</th>\n",
       "      <td>Maldives and Srilanka are gaining popularity in terms of low budget vacation places</td>\n",
       "      <td>Travel</td>\n",
       "    </tr>\n",
       "  </tbody>\n",
       "</table>\n",
       "</div>"
      ],
      "text/plain": [
       "                                                                                  text  \\\n",
       "0                                        Meditation and yoga can improve mental health   \n",
       "1                     Fruits, whole grains and vegetables helps control blood pressure   \n",
       "2                                    These are the latest fashion trends for this week   \n",
       "3                                    Vibrant color jeans for male are becoming a trend   \n",
       "4                                                   The concert starts at 7 PM tonight   \n",
       "5                      Navaratri dandiya program at Expo center in Mumbai this october   \n",
       "6                                    Exciting vacation destinations for your next trip   \n",
       "7  Maldives and Srilanka are gaining popularity in terms of low budget vacation places   \n",
       "\n",
       "  category  \n",
       "0   Health  \n",
       "1   Health  \n",
       "2  Fashion  \n",
       "3  Fashion  \n",
       "4    Event  \n",
       "5    Event  \n",
       "6   Travel  \n",
       "7   Travel  "
      ]
     },
     "execution_count": 3,
     "metadata": {},
     "output_type": "execute_result"
    }
   ],
   "source": [
    "df"
   ]
  },
  {
   "cell_type": "markdown",
   "metadata": {},
   "source": [
    "<h3>Step 1: Create source embeddings for the text column</h3>"
   ]
  },
  {
   "cell_type": "code",
   "execution_count": 4,
   "metadata": {},
   "outputs": [
    {
     "name": "stderr",
     "output_type": "stream",
     "text": [
      "/Users/poojapatel/Desktop/pooja_patel/work/codes/llm/news-research-tool-llm/venv/lib/python3.11/site-packages/tqdm/auto.py:21: TqdmWarning: IProgress not found. Please update jupyter and ipywidgets. See https://ipywidgets.readthedocs.io/en/stable/user_install.html\n",
      "  from .autonotebook import tqdm as notebook_tqdm\n"
     ]
    },
    {
     "data": {
      "text/plain": [
       "(8, 768)"
      ]
     },
     "execution_count": 4,
     "metadata": {},
     "output_type": "execute_result"
    }
   ],
   "source": [
    "from sentence_transformers import SentenceTransformer\n",
    "\n",
    "encoder = SentenceTransformer('all-mpnet-base-v2')\n",
    "vectors = encoder.encode(df.text)\n",
    "vectors.shape"
   ]
  },
  {
   "cell_type": "code",
   "execution_count": 5,
   "metadata": {},
   "outputs": [
    {
     "data": {
      "text/plain": [
       "768"
      ]
     },
     "execution_count": 5,
     "metadata": {},
     "output_type": "execute_result"
    }
   ],
   "source": [
    "dim = vectors.shape[1]\n",
    "dim"
   ]
  },
  {
   "cell_type": "code",
   "execution_count": 6,
   "metadata": {},
   "outputs": [
    {
     "data": {
      "text/plain": [
       "array([[-0.0024739 ,  0.03626722, -0.05290461, ..., -0.0915236 ,\n",
       "        -0.03970003, -0.04330488],\n",
       "       [-0.03357266,  0.00980518, -0.03250131, ..., -0.05165475,\n",
       "         0.02245891, -0.03156183],\n",
       "       [-0.01865325, -0.04051302, -0.01235392, ...,  0.00610584,\n",
       "        -0.07179646,  0.02773845],\n",
       "       ...,\n",
       "       [-0.0006646 ,  0.04252126, -0.05645508, ...,  0.01315469,\n",
       "        -0.03183556, -0.04357661],\n",
       "       [-0.03317147,  0.03252461, -0.02484839, ...,  0.01174418,\n",
       "         0.05747125,  0.00571025],\n",
       "       [-0.00166396,  0.00413834, -0.0459708 , ...,  0.02008529,\n",
       "         0.0565625 , -0.00161594]], dtype=float32)"
      ]
     },
     "execution_count": 6,
     "metadata": {},
     "output_type": "execute_result"
    }
   ],
   "source": [
    "vectors"
   ]
  },
  {
   "cell_type": "markdown",
   "metadata": {},
   "source": [
    "<h3>Step 2: Build FAISS index for vectors</h3>"
   ]
  },
  {
   "cell_type": "code",
   "execution_count": 7,
   "metadata": {},
   "outputs": [
    {
     "data": {
      "text/plain": [
       "<faiss.swigfaiss.IndexFlatL2; proxy of <Swig Object of type 'faiss::IndexFlatL2 *' at 0x288b74c00> >"
      ]
     },
     "execution_count": 7,
     "metadata": {},
     "output_type": "execute_result"
    }
   ],
   "source": [
    "import faiss\n",
    "\n",
    "index = faiss.IndexFlatL2(dim)\n",
    "index"
   ]
  },
  {
   "cell_type": "markdown",
   "metadata": {},
   "source": [
    "<h3>Step 3: Normalize the source vectors (as we are using L2 distance to measure similarity) and add to the index</h3>"
   ]
  },
  {
   "cell_type": "code",
   "execution_count": 8,
   "metadata": {},
   "outputs": [],
   "source": [
    "index.add(vectors)"
   ]
  },
  {
   "cell_type": "code",
   "execution_count": 9,
   "metadata": {},
   "outputs": [
    {
     "data": {
      "text/plain": [
       "<faiss.swigfaiss.IndexFlatL2; proxy of <Swig Object of type 'faiss::IndexFlatL2 *' at 0x288b74c00> >"
      ]
     },
     "execution_count": 9,
     "metadata": {},
     "output_type": "execute_result"
    }
   ],
   "source": [
    "index"
   ]
  },
  {
   "cell_type": "markdown",
   "metadata": {},
   "source": [
    "<h3>Step 4: Encode search text using same encoder and normalize the output vector</h3>"
   ]
  },
  {
   "cell_type": "code",
   "execution_count": 10,
   "metadata": {},
   "outputs": [
    {
     "data": {
      "text/plain": [
       "(768,)"
      ]
     },
     "execution_count": 10,
     "metadata": {},
     "output_type": "execute_result"
    }
   ],
   "source": [
    "search_query = \"I want to buy a polo t-shirt\"\n",
    "# search_query = \"looking for places to visit during the holidays\"\n",
    "# search_query = \"An apple a day keeps the doctor away\"\n",
    "\n",
    "vec = encoder.encode(search_query)\n",
    "vec.shape"
   ]
  },
  {
   "cell_type": "code",
   "execution_count": 11,
   "metadata": {},
   "outputs": [
    {
     "data": {
      "text/plain": [
       "array([ 1.03882970e-02,  2.78685261e-02, -1.18618011e-02,  1.81326624e-02,\n",
       "        1.21981266e-03, -1.42995799e-02,  1.96229368e-02,  2.07197666e-02,\n",
       "       -2.23660581e-02,  4.75626737e-02,  1.77976247e-02, -8.00334942e-03,\n",
       "        2.53419541e-02,  5.26148938e-02,  8.44944827e-03, -1.63943246e-02,\n",
       "        1.02661196e-02, -2.74856295e-02,  8.37066919e-02, -1.52885104e-02,\n",
       "        1.67682618e-02, -3.97137925e-03, -2.74348874e-02,  5.02091721e-02,\n",
       "       -8.36522598e-03, -4.74074818e-02,  2.36915816e-02, -1.01185357e-02,\n",
       "       -2.82840673e-02,  7.94266537e-03,  4.21435721e-02, -4.19377722e-03,\n",
       "       -1.91232767e-02, -3.12784947e-02,  1.24685084e-06, -1.04428250e-02,\n",
       "       -2.19971612e-02, -8.66928175e-02, -1.88502145e-03, -2.54771374e-02,\n",
       "       -9.72967036e-03,  7.93310553e-02, -3.55963409e-02, -3.05318594e-04,\n",
       "       -1.12392679e-02, -3.88931669e-02,  5.49314320e-02,  1.35208055e-01,\n",
       "       -8.19147453e-02,  1.18784495e-02, -9.01845749e-03,  1.92543976e-02,\n",
       "       -2.82724053e-02, -3.29267122e-02, -2.20107716e-02, -4.29835767e-02,\n",
       "        3.70104387e-02, -4.80649136e-02,  9.49251000e-03,  3.51585448e-02,\n",
       "        4.88772206e-02, -3.28932442e-02, -1.24120228e-02, -1.64292920e-02,\n",
       "        3.93721275e-02,  2.69109644e-02,  6.15458190e-02, -4.14120359e-03,\n",
       "        1.75675023e-02,  1.53993899e-02,  9.60061140e-03, -5.69601136e-04,\n",
       "       -4.83582616e-02,  4.25831676e-02,  1.10985907e-02, -4.66182642e-02,\n",
       "       -2.10591988e-03, -5.81462234e-02,  1.40412496e-02,  1.00883646e-02,\n",
       "       -2.44589988e-02,  1.42714716e-02, -2.10581999e-02,  7.38854185e-02,\n",
       "       -2.23949831e-02,  1.38752926e-02, -1.33596710e-03,  9.21320263e-03,\n",
       "       -2.84222458e-02, -4.04208293e-03, -1.71392690e-02, -8.46528169e-03,\n",
       "       -2.83984020e-02, -3.69299687e-02, -9.47200805e-02, -3.26580442e-02,\n",
       "        2.60050353e-02,  1.31178787e-02,  1.51670538e-02, -2.12380104e-03,\n",
       "        1.48177696e-02,  1.37816966e-02,  1.25303334e-02, -5.01472177e-03,\n",
       "        3.56062092e-02,  5.93454875e-02, -5.03398143e-02, -9.55988374e-03,\n",
       "       -7.23669454e-02,  9.45839286e-03,  1.54202888e-02, -7.03747990e-03,\n",
       "       -3.10014430e-02, -8.86357296e-03, -2.98000313e-02, -8.84007588e-02,\n",
       "       -2.25058924e-02, -3.25824358e-02,  4.78070378e-02,  2.14025797e-03,\n",
       "        1.37757522e-03, -1.25065800e-02, -1.15712471e-02,  2.34021805e-02,\n",
       "        3.43837240e-03,  2.69363467e-02, -6.23307303e-02, -5.29247848e-03,\n",
       "        1.73165719e-03,  3.20438929e-02,  2.13050662e-04, -1.54123958e-02,\n",
       "        5.08342907e-02, -4.52313200e-02, -1.67427845e-02, -3.47918421e-02,\n",
       "       -4.16715331e-02, -2.34929435e-02,  2.40792427e-03, -2.15250682e-02,\n",
       "        3.07004293e-03,  2.54970975e-02,  3.60133499e-02,  2.68477723e-02,\n",
       "       -4.22385372e-02, -2.45388411e-02,  3.93798798e-02,  6.31308230e-03,\n",
       "        2.03843825e-02, -2.22934633e-02, -7.87331909e-03, -1.47401551e-02,\n",
       "        4.87234965e-02, -2.55933106e-02, -1.08920848e-02, -3.37023064e-02,\n",
       "        4.69095185e-02,  1.95821393e-02,  4.13417956e-03,  2.72843409e-02,\n",
       "        4.72928892e-04,  2.55069621e-02, -5.26176058e-02,  3.57674882e-02,\n",
       "       -5.46486164e-03, -3.90751474e-02, -4.51455936e-02, -1.37631120e-02,\n",
       "        5.50721399e-02,  3.80344130e-02, -4.58984450e-02,  4.83396184e-03,\n",
       "       -2.92573962e-02, -4.76551196e-03,  9.17754024e-02, -9.70399827e-02,\n",
       "        1.05631799e-01, -5.64411096e-02, -6.33300245e-02,  3.45336124e-02,\n",
       "       -5.77132218e-02, -1.21777296e-01,  9.45338793e-03,  2.02731192e-02,\n",
       "        2.63032056e-02,  3.96898156e-03, -3.88275497e-02, -1.57008953e-02,\n",
       "       -3.47952396e-02, -3.07988115e-02,  3.24619897e-02, -4.84479740e-02,\n",
       "        4.39471053e-03, -1.72206704e-02,  1.15569783e-04, -3.72782387e-02,\n",
       "       -5.17303087e-02, -1.91914961e-02, -3.10722832e-02,  4.77237115e-03,\n",
       "       -5.49007617e-02, -1.40048889e-02,  2.99301278e-02,  9.23176333e-02,\n",
       "       -2.96304394e-02,  2.45515965e-02,  3.50712761e-02, -5.64091280e-03,\n",
       "        1.57490652e-02,  2.08431426e-02,  5.11531681e-02,  7.25741452e-03,\n",
       "        4.40728990e-03, -2.58071721e-02,  4.99889674e-03, -1.47745328e-03,\n",
       "       -4.42321040e-03,  4.48388793e-02,  7.79227614e-02,  1.65747907e-02,\n",
       "       -3.80822383e-02,  3.76827940e-02,  1.02415584e-01, -1.61058661e-02,\n",
       "        7.32477531e-02, -1.11488681e-02,  3.81629951e-02,  2.02278197e-02,\n",
       "       -1.23596452e-02,  2.38338672e-02, -2.99291722e-02, -7.08037755e-03,\n",
       "        1.23009691e-02, -6.69539347e-03, -6.65793121e-02,  6.94696680e-02,\n",
       "        1.02031659e-02, -2.23912075e-02, -1.79656576e-02, -3.10914516e-02,\n",
       "       -3.04419417e-02, -2.43376046e-02,  2.62912959e-02, -1.44890649e-02,\n",
       "       -3.44527178e-02,  3.69893922e-03,  2.34961715e-02, -2.20465437e-02,\n",
       "       -6.40620515e-02, -3.29653807e-02, -1.13153215e-02,  4.46261764e-02,\n",
       "        2.82178260e-02, -1.32326083e-02, -2.48316508e-02, -4.16194238e-02,\n",
       "       -3.17105427e-02, -2.90314294e-03, -2.58373637e-02, -2.38407645e-02,\n",
       "        4.09952886e-02, -3.72039229e-02,  3.80427018e-02,  2.60184277e-02,\n",
       "        3.78452428e-02, -1.22929420e-02, -1.78747363e-02,  2.22684424e-02,\n",
       "       -1.39292981e-02,  3.33372201e-03, -1.01043973e-02, -9.42678526e-02,\n",
       "        2.93327440e-02, -2.11534090e-02, -8.28084257e-03,  9.39176977e-03,\n",
       "        7.01194182e-02, -2.47647427e-02, -7.45412335e-03,  1.81594845e-02,\n",
       "        2.10113805e-02,  5.30431904e-02, -1.83114372e-02,  2.45678313e-02,\n",
       "        1.81325413e-02, -1.36736454e-02, -2.25663884e-03,  2.27259658e-02,\n",
       "       -1.32561196e-02,  5.31734265e-02,  2.84625217e-03, -1.26053300e-02,\n",
       "        5.37054911e-02, -2.62218304e-02,  6.28261864e-02, -3.38792428e-02,\n",
       "        1.24345394e-02,  3.83223733e-03,  2.31523365e-02, -7.25013986e-02,\n",
       "       -4.14383784e-03, -4.29395661e-02, -9.25694220e-03, -1.02920420e-02,\n",
       "       -2.94399969e-02, -1.51161607e-02,  1.03488648e-02, -8.83049704e-03,\n",
       "        7.79082533e-03,  6.15880601e-02, -2.56218184e-02,  2.67891083e-02,\n",
       "       -3.48655619e-02, -3.35103273e-02,  4.58869487e-02,  2.87142601e-02,\n",
       "       -1.73843857e-02,  9.46802050e-02, -2.42618378e-02,  2.83706989e-02,\n",
       "        5.47289848e-03, -3.05395722e-02, -2.04882082e-02,  1.14950864e-02,\n",
       "       -2.06157267e-02, -4.73046117e-02, -5.66250703e-04,  2.54014693e-02,\n",
       "       -4.44826707e-02, -3.05528771e-02, -2.27482226e-02,  5.34631079e-03,\n",
       "       -1.77380107e-02,  8.93093925e-03,  6.29972061e-03, -4.71267290e-02,\n",
       "        9.71078780e-03, -1.98281202e-02, -1.95309520e-02,  2.61490569e-02,\n",
       "        2.61225202e-03, -2.84732394e-02, -8.45036097e-03, -6.73168525e-02,\n",
       "       -8.53152722e-02, -3.01742777e-02,  3.68126556e-02,  2.59252619e-02,\n",
       "       -6.74630478e-02, -5.72894365e-02, -1.90710649e-02, -2.98832562e-02,\n",
       "       -1.49018746e-02, -6.44188048e-03, -1.42151946e-02,  3.73985432e-02,\n",
       "        1.12889777e-03,  2.28630118e-02, -4.47166711e-02,  2.30517536e-02,\n",
       "        6.28976326e-04,  4.42759581e-02,  2.46650502e-02,  3.51332761e-02,\n",
       "       -3.61626372e-02, -4.75540273e-02,  1.82497706e-02,  3.07629853e-02,\n",
       "        1.00461289e-03, -1.84899010e-02, -2.18749501e-05,  7.50036016e-02,\n",
       "        3.62004414e-02,  6.58765137e-02, -1.86647121e-02,  4.20117602e-02,\n",
       "       -2.29522749e-03,  6.42549023e-02,  5.11614904e-02, -1.55825606e-02,\n",
       "       -7.13868474e-04,  3.42612602e-02, -6.07561506e-03,  2.43100245e-02,\n",
       "       -1.24312285e-02, -4.36682962e-02,  2.47560013e-02, -3.65800597e-02,\n",
       "        2.03333553e-02, -3.50792632e-02,  1.50017375e-02,  7.63922185e-02,\n",
       "        6.04432374e-02,  6.65943027e-02,  3.30564706e-03,  3.46694067e-02,\n",
       "       -1.60535809e-03, -2.37293486e-02,  9.55963787e-03, -8.56767036e-03,\n",
       "       -1.43413665e-02,  9.41570699e-02,  3.45746614e-02,  7.35700801e-02,\n",
       "        2.54632160e-02, -3.96390036e-02,  2.52090264e-02,  7.53591731e-02,\n",
       "       -3.82415839e-02, -3.73828821e-02, -5.41513897e-02,  2.40688827e-02,\n",
       "       -3.08087021e-02, -6.20013475e-03, -7.64307752e-03, -3.59188505e-02,\n",
       "        1.13591377e-03, -4.66338731e-03,  2.37279870e-02, -4.54728939e-02,\n",
       "       -1.95224944e-03,  1.30089987e-02, -4.03875001e-02,  3.14237475e-02,\n",
       "        3.25081721e-02,  2.98244935e-02, -7.06257648e-04, -8.04493502e-02,\n",
       "       -1.45465042e-02, -1.17485793e-02, -3.25348638e-02,  3.16704288e-02,\n",
       "       -4.22670618e-02,  6.71450794e-02, -1.01962641e-01, -3.84004787e-02,\n",
       "       -1.90570131e-02,  5.59219718e-02,  7.67461397e-03,  5.18109612e-02,\n",
       "        1.68128889e-02, -1.31116025e-02,  2.82032602e-03,  1.55523838e-03,\n",
       "       -5.03702089e-04, -3.61106433e-02, -6.84431614e-03,  1.76924765e-02,\n",
       "       -2.98450124e-02, -4.57744859e-02,  1.10833850e-02, -1.51630007e-02,\n",
       "        3.66881909e-03,  8.08090344e-02, -1.80434808e-02, -1.02003699e-03,\n",
       "       -4.84657357e-04,  3.22403051e-02, -1.65944900e-02,  1.84563245e-03,\n",
       "        5.07566892e-02,  1.58889610e-02, -6.26498014e-02, -1.95618160e-02,\n",
       "        4.34030183e-02, -5.68292923e-02,  1.05988450e-01, -4.80109714e-02,\n",
       "        1.00577911e-02,  2.19855960e-02, -3.14386040e-02,  1.16583435e-02,\n",
       "        3.97340581e-02, -1.13187274e-02,  5.83115891e-02,  2.77363439e-03,\n",
       "        6.33228943e-02,  4.29547839e-02,  2.16284189e-02,  3.85456122e-02,\n",
       "       -2.44158432e-02,  1.34007027e-02,  2.94845295e-03,  7.02524511e-03,\n",
       "       -1.87546071e-02,  4.76556309e-02,  6.15999401e-02,  1.85416210e-02,\n",
       "       -1.38640497e-02, -4.43654619e-02, -2.19827741e-02,  1.19857769e-02,\n",
       "       -3.77185494e-02, -6.42945394e-02, -2.67556515e-02,  5.12968898e-02,\n",
       "        2.78437622e-02, -6.28402531e-02, -3.17041650e-02,  2.21165754e-02,\n",
       "       -1.41523052e-02, -6.07153587e-03,  7.16667399e-02,  1.14130173e-02,\n",
       "        3.74985696e-03, -6.88135549e-02,  4.47597317e-02, -3.12532932e-02,\n",
       "        1.41535727e-02, -3.08248792e-02, -7.57633068e-04, -5.60951652e-03,\n",
       "        4.05324735e-02,  5.67508687e-04,  1.03436066e-02,  8.89484882e-02,\n",
       "       -8.93713254e-03, -6.23021685e-02,  2.01755352e-02, -1.27847362e-02,\n",
       "        1.61152259e-02, -1.23151541e-02,  2.49236599e-02,  2.02201791e-02,\n",
       "       -2.01466344e-02,  4.14760113e-02, -2.72540953e-02, -3.96626182e-02,\n",
       "       -2.26231851e-02,  1.40826660e-03,  1.52836097e-02, -6.26359060e-02,\n",
       "        6.85891211e-02,  2.12807395e-02, -4.11786586e-02,  7.12969899e-02,\n",
       "       -2.85412334e-02, -1.06836148e-02, -1.89546403e-02,  1.78563893e-02,\n",
       "       -3.75272594e-02,  6.14951947e-04,  4.38691415e-02,  1.56058837e-02,\n",
       "        3.15993209e-03,  5.58509352e-03, -5.97153883e-03,  2.85606012e-02,\n",
       "       -9.22781415e-03,  9.27607901e-03,  2.80324984e-02,  6.93220422e-02,\n",
       "       -3.44455354e-02, -2.25159880e-02,  2.57092007e-02, -4.39213840e-33,\n",
       "       -3.64304855e-02, -2.59268959e-03,  9.11507104e-03,  3.95197310e-02,\n",
       "        1.37440506e-02,  3.83444247e-03,  2.09222827e-03, -6.76697725e-03,\n",
       "        1.25046000e-02, -1.33824293e-02, -1.84272230e-03,  1.20098349e-02,\n",
       "        1.55764101e-02,  7.08807376e-04,  7.13026747e-02, -5.37558384e-02,\n",
       "        2.44811792e-02, -4.40049507e-02, -1.36816679e-02, -1.33414101e-02,\n",
       "       -2.93123443e-02, -1.21151488e-02,  6.02591746e-02,  1.02624483e-02,\n",
       "        3.59790660e-02, -3.84313352e-02,  2.23757606e-02,  1.09115625e-02,\n",
       "        6.93022236e-02,  1.61974672e-02, -3.05023864e-02,  4.06713150e-02,\n",
       "       -3.92036960e-02, -3.48172672e-02,  4.40173373e-02,  2.78182980e-02,\n",
       "       -5.45105338e-03, -2.34863255e-02,  9.80812311e-03,  2.96252910e-02,\n",
       "        4.15044837e-02, -8.76813307e-02, -8.35823417e-02, -2.17031576e-02,\n",
       "       -3.72132100e-02, -8.14559218e-03, -1.64230503e-02, -3.21021676e-03,\n",
       "        7.74320867e-03, -4.88729700e-02, -3.05717252e-03, -2.07577664e-02,\n",
       "        1.43916691e-02, -2.15989444e-02,  5.19237034e-02,  3.22398953e-02,\n",
       "        2.97001228e-02,  6.64230511e-02,  3.49240825e-02,  6.32982180e-02,\n",
       "        2.76507642e-02, -6.43676594e-02, -1.97426416e-02, -6.66220412e-02,\n",
       "       -2.80177332e-02, -2.66224016e-02, -1.15306601e-02, -2.93881889e-03,\n",
       "        2.88165770e-02, -3.48908752e-02,  1.28499530e-02,  2.38518640e-02,\n",
       "       -2.04858445e-02,  3.24630439e-02,  2.07587834e-02,  3.60320322e-02,\n",
       "        1.18891718e-02,  2.08263677e-02,  5.34499176e-02,  3.98998111e-02,\n",
       "        1.93189690e-03,  4.08156998e-02,  1.73661057e-02,  1.62020233e-02,\n",
       "       -3.99374254e-02, -5.42060398e-02, -9.92141291e-03, -2.20064372e-02,\n",
       "        2.27758382e-02, -3.69542185e-03, -5.12674898e-02, -3.43792439e-02,\n",
       "        2.70803105e-02,  6.55446714e-03, -8.59292075e-02, -6.78600743e-02,\n",
       "       -6.93699671e-03,  1.56281237e-02, -6.14051754e-03,  1.97633971e-02,\n",
       "       -2.56496072e-02, -8.55876412e-03, -6.69197971e-03, -1.37871150e-02,\n",
       "       -1.60989910e-02, -6.38109725e-03,  4.70548682e-02, -3.73783521e-03,\n",
       "       -2.61348151e-02,  9.47393768e-04,  5.62975043e-03, -4.70339917e-02,\n",
       "       -2.40903925e-02, -1.03060231e-01,  3.95706035e-02,  1.86298974e-02,\n",
       "        1.22608729e-02, -2.66108792e-02,  8.73119850e-03, -1.45036494e-02,\n",
       "       -2.18206532e-02, -5.02305590e-02, -1.87203959e-02, -1.50402226e-02,\n",
       "       -3.63759510e-03,  1.26318047e-02,  3.22695412e-02,  2.52542011e-02,\n",
       "       -2.95264032e-02, -1.22712413e-02, -1.14217699e-02, -9.44960024e-03,\n",
       "        1.85265733e-07, -3.20790373e-02,  2.90722419e-02,  1.50097935e-02,\n",
       "        4.58585098e-02, -4.58981097e-02,  8.51313993e-02,  1.87606048e-02,\n",
       "       -7.52923405e-03, -9.47739929e-03,  2.20604911e-02, -1.64591912e-02,\n",
       "        1.37806302e-02, -5.93538443e-03,  1.98826008e-02, -1.72281824e-02,\n",
       "       -5.15167601e-02,  7.51994327e-02, -2.18111351e-02,  1.30774133e-05,\n",
       "       -4.08614613e-02, -2.18480360e-02,  7.75561035e-02,  6.59542978e-02,\n",
       "        3.45364213e-02,  6.32865774e-03, -3.45287286e-02,  2.41718236e-02,\n",
       "       -5.22142574e-02, -4.00031218e-03, -4.70077097e-02, -7.21938489e-03,\n",
       "       -6.05985709e-02, -4.96256491e-03, -1.06796864e-02,  3.90088037e-02,\n",
       "       -4.15896857e-03,  5.15687503e-02,  1.44929970e-02,  8.72989837e-03,\n",
       "        5.83562143e-02, -4.20900434e-02, -3.73957236e-03, -4.08154465e-02,\n",
       "       -3.81657481e-02,  2.13405886e-03,  3.52093019e-03, -6.06537610e-03,\n",
       "       -2.75366511e-02, -1.17570739e-02, -2.33171647e-03,  2.78419424e-02,\n",
       "       -2.67389063e-02,  2.94055641e-02, -3.15134078e-02, -4.89009824e-03,\n",
       "       -3.41905863e-03,  4.42338623e-02,  1.56635586e-02,  1.01598185e-02,\n",
       "       -8.11969787e-02, -8.73331192e-06,  4.35417034e-02, -3.40959709e-03,\n",
       "        1.32463709e-01, -5.27367592e-02,  4.36557345e-02,  3.99109535e-02,\n",
       "        6.80548666e-35,  2.35433336e-02, -4.56788987e-02, -3.64246070e-02,\n",
       "        3.97049934e-02, -2.14084145e-02, -1.54702622e-03,  9.18157473e-02,\n",
       "       -7.23868236e-03,  7.68454466e-03,  2.62084659e-02, -2.25903583e-03],\n",
       "      dtype=float32)"
      ]
     },
     "execution_count": 11,
     "metadata": {},
     "output_type": "execute_result"
    }
   ],
   "source": [
    "vec"
   ]
  },
  {
   "cell_type": "code",
   "execution_count": 12,
   "metadata": {},
   "outputs": [
    {
     "data": {
      "text/plain": [
       "array([[ 1.03882970e-02,  2.78685261e-02, -1.18618011e-02,\n",
       "         1.81326624e-02,  1.21981266e-03, -1.42995799e-02,\n",
       "         1.96229368e-02,  2.07197666e-02, -2.23660581e-02,\n",
       "         4.75626737e-02,  1.77976247e-02, -8.00334942e-03,\n",
       "         2.53419541e-02,  5.26148938e-02,  8.44944827e-03,\n",
       "        -1.63943246e-02,  1.02661196e-02, -2.74856295e-02,\n",
       "         8.37066919e-02, -1.52885104e-02,  1.67682618e-02,\n",
       "        -3.97137925e-03, -2.74348874e-02,  5.02091721e-02,\n",
       "        -8.36522598e-03, -4.74074818e-02,  2.36915816e-02,\n",
       "        -1.01185357e-02, -2.82840673e-02,  7.94266537e-03,\n",
       "         4.21435721e-02, -4.19377722e-03, -1.91232767e-02,\n",
       "        -3.12784947e-02,  1.24685084e-06, -1.04428250e-02,\n",
       "        -2.19971612e-02, -8.66928175e-02, -1.88502145e-03,\n",
       "        -2.54771374e-02, -9.72967036e-03,  7.93310553e-02,\n",
       "        -3.55963409e-02, -3.05318594e-04, -1.12392679e-02,\n",
       "        -3.88931669e-02,  5.49314320e-02,  1.35208055e-01,\n",
       "        -8.19147453e-02,  1.18784495e-02, -9.01845749e-03,\n",
       "         1.92543976e-02, -2.82724053e-02, -3.29267122e-02,\n",
       "        -2.20107716e-02, -4.29835767e-02,  3.70104387e-02,\n",
       "        -4.80649136e-02,  9.49251000e-03,  3.51585448e-02,\n",
       "         4.88772206e-02, -3.28932442e-02, -1.24120228e-02,\n",
       "        -1.64292920e-02,  3.93721275e-02,  2.69109644e-02,\n",
       "         6.15458190e-02, -4.14120359e-03,  1.75675023e-02,\n",
       "         1.53993899e-02,  9.60061140e-03, -5.69601136e-04,\n",
       "        -4.83582616e-02,  4.25831676e-02,  1.10985907e-02,\n",
       "        -4.66182642e-02, -2.10591988e-03, -5.81462234e-02,\n",
       "         1.40412496e-02,  1.00883646e-02, -2.44589988e-02,\n",
       "         1.42714716e-02, -2.10581999e-02,  7.38854185e-02,\n",
       "        -2.23949831e-02,  1.38752926e-02, -1.33596710e-03,\n",
       "         9.21320263e-03, -2.84222458e-02, -4.04208293e-03,\n",
       "        -1.71392690e-02, -8.46528169e-03, -2.83984020e-02,\n",
       "        -3.69299687e-02, -9.47200805e-02, -3.26580442e-02,\n",
       "         2.60050353e-02,  1.31178787e-02,  1.51670538e-02,\n",
       "        -2.12380104e-03,  1.48177696e-02,  1.37816966e-02,\n",
       "         1.25303334e-02, -5.01472177e-03,  3.56062092e-02,\n",
       "         5.93454875e-02, -5.03398143e-02, -9.55988374e-03,\n",
       "        -7.23669454e-02,  9.45839286e-03,  1.54202888e-02,\n",
       "        -7.03747990e-03, -3.10014430e-02, -8.86357296e-03,\n",
       "        -2.98000313e-02, -8.84007588e-02, -2.25058924e-02,\n",
       "        -3.25824358e-02,  4.78070378e-02,  2.14025797e-03,\n",
       "         1.37757522e-03, -1.25065800e-02, -1.15712471e-02,\n",
       "         2.34021805e-02,  3.43837240e-03,  2.69363467e-02,\n",
       "        -6.23307303e-02, -5.29247848e-03,  1.73165719e-03,\n",
       "         3.20438929e-02,  2.13050662e-04, -1.54123958e-02,\n",
       "         5.08342907e-02, -4.52313200e-02, -1.67427845e-02,\n",
       "        -3.47918421e-02, -4.16715331e-02, -2.34929435e-02,\n",
       "         2.40792427e-03, -2.15250682e-02,  3.07004293e-03,\n",
       "         2.54970975e-02,  3.60133499e-02,  2.68477723e-02,\n",
       "        -4.22385372e-02, -2.45388411e-02,  3.93798798e-02,\n",
       "         6.31308230e-03,  2.03843825e-02, -2.22934633e-02,\n",
       "        -7.87331909e-03, -1.47401551e-02,  4.87234965e-02,\n",
       "        -2.55933106e-02, -1.08920848e-02, -3.37023064e-02,\n",
       "         4.69095185e-02,  1.95821393e-02,  4.13417956e-03,\n",
       "         2.72843409e-02,  4.72928892e-04,  2.55069621e-02,\n",
       "        -5.26176058e-02,  3.57674882e-02, -5.46486164e-03,\n",
       "        -3.90751474e-02, -4.51455936e-02, -1.37631120e-02,\n",
       "         5.50721399e-02,  3.80344130e-02, -4.58984450e-02,\n",
       "         4.83396184e-03, -2.92573962e-02, -4.76551196e-03,\n",
       "         9.17754024e-02, -9.70399827e-02,  1.05631799e-01,\n",
       "        -5.64411096e-02, -6.33300245e-02,  3.45336124e-02,\n",
       "        -5.77132218e-02, -1.21777296e-01,  9.45338793e-03,\n",
       "         2.02731192e-02,  2.63032056e-02,  3.96898156e-03,\n",
       "        -3.88275497e-02, -1.57008953e-02, -3.47952396e-02,\n",
       "        -3.07988115e-02,  3.24619897e-02, -4.84479740e-02,\n",
       "         4.39471053e-03, -1.72206704e-02,  1.15569783e-04,\n",
       "        -3.72782387e-02, -5.17303087e-02, -1.91914961e-02,\n",
       "        -3.10722832e-02,  4.77237115e-03, -5.49007617e-02,\n",
       "        -1.40048889e-02,  2.99301278e-02,  9.23176333e-02,\n",
       "        -2.96304394e-02,  2.45515965e-02,  3.50712761e-02,\n",
       "        -5.64091280e-03,  1.57490652e-02,  2.08431426e-02,\n",
       "         5.11531681e-02,  7.25741452e-03,  4.40728990e-03,\n",
       "        -2.58071721e-02,  4.99889674e-03, -1.47745328e-03,\n",
       "        -4.42321040e-03,  4.48388793e-02,  7.79227614e-02,\n",
       "         1.65747907e-02, -3.80822383e-02,  3.76827940e-02,\n",
       "         1.02415584e-01, -1.61058661e-02,  7.32477531e-02,\n",
       "        -1.11488681e-02,  3.81629951e-02,  2.02278197e-02,\n",
       "        -1.23596452e-02,  2.38338672e-02, -2.99291722e-02,\n",
       "        -7.08037755e-03,  1.23009691e-02, -6.69539347e-03,\n",
       "        -6.65793121e-02,  6.94696680e-02,  1.02031659e-02,\n",
       "        -2.23912075e-02, -1.79656576e-02, -3.10914516e-02,\n",
       "        -3.04419417e-02, -2.43376046e-02,  2.62912959e-02,\n",
       "        -1.44890649e-02, -3.44527178e-02,  3.69893922e-03,\n",
       "         2.34961715e-02, -2.20465437e-02, -6.40620515e-02,\n",
       "        -3.29653807e-02, -1.13153215e-02,  4.46261764e-02,\n",
       "         2.82178260e-02, -1.32326083e-02, -2.48316508e-02,\n",
       "        -4.16194238e-02, -3.17105427e-02, -2.90314294e-03,\n",
       "        -2.58373637e-02, -2.38407645e-02,  4.09952886e-02,\n",
       "        -3.72039229e-02,  3.80427018e-02,  2.60184277e-02,\n",
       "         3.78452428e-02, -1.22929420e-02, -1.78747363e-02,\n",
       "         2.22684424e-02, -1.39292981e-02,  3.33372201e-03,\n",
       "        -1.01043973e-02, -9.42678526e-02,  2.93327440e-02,\n",
       "        -2.11534090e-02, -8.28084257e-03,  9.39176977e-03,\n",
       "         7.01194182e-02, -2.47647427e-02, -7.45412335e-03,\n",
       "         1.81594845e-02,  2.10113805e-02,  5.30431904e-02,\n",
       "        -1.83114372e-02,  2.45678313e-02,  1.81325413e-02,\n",
       "        -1.36736454e-02, -2.25663884e-03,  2.27259658e-02,\n",
       "        -1.32561196e-02,  5.31734265e-02,  2.84625217e-03,\n",
       "        -1.26053300e-02,  5.37054911e-02, -2.62218304e-02,\n",
       "         6.28261864e-02, -3.38792428e-02,  1.24345394e-02,\n",
       "         3.83223733e-03,  2.31523365e-02, -7.25013986e-02,\n",
       "        -4.14383784e-03, -4.29395661e-02, -9.25694220e-03,\n",
       "        -1.02920420e-02, -2.94399969e-02, -1.51161607e-02,\n",
       "         1.03488648e-02, -8.83049704e-03,  7.79082533e-03,\n",
       "         6.15880601e-02, -2.56218184e-02,  2.67891083e-02,\n",
       "        -3.48655619e-02, -3.35103273e-02,  4.58869487e-02,\n",
       "         2.87142601e-02, -1.73843857e-02,  9.46802050e-02,\n",
       "        -2.42618378e-02,  2.83706989e-02,  5.47289848e-03,\n",
       "        -3.05395722e-02, -2.04882082e-02,  1.14950864e-02,\n",
       "        -2.06157267e-02, -4.73046117e-02, -5.66250703e-04,\n",
       "         2.54014693e-02, -4.44826707e-02, -3.05528771e-02,\n",
       "        -2.27482226e-02,  5.34631079e-03, -1.77380107e-02,\n",
       "         8.93093925e-03,  6.29972061e-03, -4.71267290e-02,\n",
       "         9.71078780e-03, -1.98281202e-02, -1.95309520e-02,\n",
       "         2.61490569e-02,  2.61225202e-03, -2.84732394e-02,\n",
       "        -8.45036097e-03, -6.73168525e-02, -8.53152722e-02,\n",
       "        -3.01742777e-02,  3.68126556e-02,  2.59252619e-02,\n",
       "        -6.74630478e-02, -5.72894365e-02, -1.90710649e-02,\n",
       "        -2.98832562e-02, -1.49018746e-02, -6.44188048e-03,\n",
       "        -1.42151946e-02,  3.73985432e-02,  1.12889777e-03,\n",
       "         2.28630118e-02, -4.47166711e-02,  2.30517536e-02,\n",
       "         6.28976326e-04,  4.42759581e-02,  2.46650502e-02,\n",
       "         3.51332761e-02, -3.61626372e-02, -4.75540273e-02,\n",
       "         1.82497706e-02,  3.07629853e-02,  1.00461289e-03,\n",
       "        -1.84899010e-02, -2.18749501e-05,  7.50036016e-02,\n",
       "         3.62004414e-02,  6.58765137e-02, -1.86647121e-02,\n",
       "         4.20117602e-02, -2.29522749e-03,  6.42549023e-02,\n",
       "         5.11614904e-02, -1.55825606e-02, -7.13868474e-04,\n",
       "         3.42612602e-02, -6.07561506e-03,  2.43100245e-02,\n",
       "        -1.24312285e-02, -4.36682962e-02,  2.47560013e-02,\n",
       "        -3.65800597e-02,  2.03333553e-02, -3.50792632e-02,\n",
       "         1.50017375e-02,  7.63922185e-02,  6.04432374e-02,\n",
       "         6.65943027e-02,  3.30564706e-03,  3.46694067e-02,\n",
       "        -1.60535809e-03, -2.37293486e-02,  9.55963787e-03,\n",
       "        -8.56767036e-03, -1.43413665e-02,  9.41570699e-02,\n",
       "         3.45746614e-02,  7.35700801e-02,  2.54632160e-02,\n",
       "        -3.96390036e-02,  2.52090264e-02,  7.53591731e-02,\n",
       "        -3.82415839e-02, -3.73828821e-02, -5.41513897e-02,\n",
       "         2.40688827e-02, -3.08087021e-02, -6.20013475e-03,\n",
       "        -7.64307752e-03, -3.59188505e-02,  1.13591377e-03,\n",
       "        -4.66338731e-03,  2.37279870e-02, -4.54728939e-02,\n",
       "        -1.95224944e-03,  1.30089987e-02, -4.03875001e-02,\n",
       "         3.14237475e-02,  3.25081721e-02,  2.98244935e-02,\n",
       "        -7.06257648e-04, -8.04493502e-02, -1.45465042e-02,\n",
       "        -1.17485793e-02, -3.25348638e-02,  3.16704288e-02,\n",
       "        -4.22670618e-02,  6.71450794e-02, -1.01962641e-01,\n",
       "        -3.84004787e-02, -1.90570131e-02,  5.59219718e-02,\n",
       "         7.67461397e-03,  5.18109612e-02,  1.68128889e-02,\n",
       "        -1.31116025e-02,  2.82032602e-03,  1.55523838e-03,\n",
       "        -5.03702089e-04, -3.61106433e-02, -6.84431614e-03,\n",
       "         1.76924765e-02, -2.98450124e-02, -4.57744859e-02,\n",
       "         1.10833850e-02, -1.51630007e-02,  3.66881909e-03,\n",
       "         8.08090344e-02, -1.80434808e-02, -1.02003699e-03,\n",
       "        -4.84657357e-04,  3.22403051e-02, -1.65944900e-02,\n",
       "         1.84563245e-03,  5.07566892e-02,  1.58889610e-02,\n",
       "        -6.26498014e-02, -1.95618160e-02,  4.34030183e-02,\n",
       "        -5.68292923e-02,  1.05988450e-01, -4.80109714e-02,\n",
       "         1.00577911e-02,  2.19855960e-02, -3.14386040e-02,\n",
       "         1.16583435e-02,  3.97340581e-02, -1.13187274e-02,\n",
       "         5.83115891e-02,  2.77363439e-03,  6.33228943e-02,\n",
       "         4.29547839e-02,  2.16284189e-02,  3.85456122e-02,\n",
       "        -2.44158432e-02,  1.34007027e-02,  2.94845295e-03,\n",
       "         7.02524511e-03, -1.87546071e-02,  4.76556309e-02,\n",
       "         6.15999401e-02,  1.85416210e-02, -1.38640497e-02,\n",
       "        -4.43654619e-02, -2.19827741e-02,  1.19857769e-02,\n",
       "        -3.77185494e-02, -6.42945394e-02, -2.67556515e-02,\n",
       "         5.12968898e-02,  2.78437622e-02, -6.28402531e-02,\n",
       "        -3.17041650e-02,  2.21165754e-02, -1.41523052e-02,\n",
       "        -6.07153587e-03,  7.16667399e-02,  1.14130173e-02,\n",
       "         3.74985696e-03, -6.88135549e-02,  4.47597317e-02,\n",
       "        -3.12532932e-02,  1.41535727e-02, -3.08248792e-02,\n",
       "        -7.57633068e-04, -5.60951652e-03,  4.05324735e-02,\n",
       "         5.67508687e-04,  1.03436066e-02,  8.89484882e-02,\n",
       "        -8.93713254e-03, -6.23021685e-02,  2.01755352e-02,\n",
       "        -1.27847362e-02,  1.61152259e-02, -1.23151541e-02,\n",
       "         2.49236599e-02,  2.02201791e-02, -2.01466344e-02,\n",
       "         4.14760113e-02, -2.72540953e-02, -3.96626182e-02,\n",
       "        -2.26231851e-02,  1.40826660e-03,  1.52836097e-02,\n",
       "        -6.26359060e-02,  6.85891211e-02,  2.12807395e-02,\n",
       "        -4.11786586e-02,  7.12969899e-02, -2.85412334e-02,\n",
       "        -1.06836148e-02, -1.89546403e-02,  1.78563893e-02,\n",
       "        -3.75272594e-02,  6.14951947e-04,  4.38691415e-02,\n",
       "         1.56058837e-02,  3.15993209e-03,  5.58509352e-03,\n",
       "        -5.97153883e-03,  2.85606012e-02, -9.22781415e-03,\n",
       "         9.27607901e-03,  2.80324984e-02,  6.93220422e-02,\n",
       "        -3.44455354e-02, -2.25159880e-02,  2.57092007e-02,\n",
       "        -4.39213840e-33, -3.64304855e-02, -2.59268959e-03,\n",
       "         9.11507104e-03,  3.95197310e-02,  1.37440506e-02,\n",
       "         3.83444247e-03,  2.09222827e-03, -6.76697725e-03,\n",
       "         1.25046000e-02, -1.33824293e-02, -1.84272230e-03,\n",
       "         1.20098349e-02,  1.55764101e-02,  7.08807376e-04,\n",
       "         7.13026747e-02, -5.37558384e-02,  2.44811792e-02,\n",
       "        -4.40049507e-02, -1.36816679e-02, -1.33414101e-02,\n",
       "        -2.93123443e-02, -1.21151488e-02,  6.02591746e-02,\n",
       "         1.02624483e-02,  3.59790660e-02, -3.84313352e-02,\n",
       "         2.23757606e-02,  1.09115625e-02,  6.93022236e-02,\n",
       "         1.61974672e-02, -3.05023864e-02,  4.06713150e-02,\n",
       "        -3.92036960e-02, -3.48172672e-02,  4.40173373e-02,\n",
       "         2.78182980e-02, -5.45105338e-03, -2.34863255e-02,\n",
       "         9.80812311e-03,  2.96252910e-02,  4.15044837e-02,\n",
       "        -8.76813307e-02, -8.35823417e-02, -2.17031576e-02,\n",
       "        -3.72132100e-02, -8.14559218e-03, -1.64230503e-02,\n",
       "        -3.21021676e-03,  7.74320867e-03, -4.88729700e-02,\n",
       "        -3.05717252e-03, -2.07577664e-02,  1.43916691e-02,\n",
       "        -2.15989444e-02,  5.19237034e-02,  3.22398953e-02,\n",
       "         2.97001228e-02,  6.64230511e-02,  3.49240825e-02,\n",
       "         6.32982180e-02,  2.76507642e-02, -6.43676594e-02,\n",
       "        -1.97426416e-02, -6.66220412e-02, -2.80177332e-02,\n",
       "        -2.66224016e-02, -1.15306601e-02, -2.93881889e-03,\n",
       "         2.88165770e-02, -3.48908752e-02,  1.28499530e-02,\n",
       "         2.38518640e-02, -2.04858445e-02,  3.24630439e-02,\n",
       "         2.07587834e-02,  3.60320322e-02,  1.18891718e-02,\n",
       "         2.08263677e-02,  5.34499176e-02,  3.98998111e-02,\n",
       "         1.93189690e-03,  4.08156998e-02,  1.73661057e-02,\n",
       "         1.62020233e-02, -3.99374254e-02, -5.42060398e-02,\n",
       "        -9.92141291e-03, -2.20064372e-02,  2.27758382e-02,\n",
       "        -3.69542185e-03, -5.12674898e-02, -3.43792439e-02,\n",
       "         2.70803105e-02,  6.55446714e-03, -8.59292075e-02,\n",
       "        -6.78600743e-02, -6.93699671e-03,  1.56281237e-02,\n",
       "        -6.14051754e-03,  1.97633971e-02, -2.56496072e-02,\n",
       "        -8.55876412e-03, -6.69197971e-03, -1.37871150e-02,\n",
       "        -1.60989910e-02, -6.38109725e-03,  4.70548682e-02,\n",
       "        -3.73783521e-03, -2.61348151e-02,  9.47393768e-04,\n",
       "         5.62975043e-03, -4.70339917e-02, -2.40903925e-02,\n",
       "        -1.03060231e-01,  3.95706035e-02,  1.86298974e-02,\n",
       "         1.22608729e-02, -2.66108792e-02,  8.73119850e-03,\n",
       "        -1.45036494e-02, -2.18206532e-02, -5.02305590e-02,\n",
       "        -1.87203959e-02, -1.50402226e-02, -3.63759510e-03,\n",
       "         1.26318047e-02,  3.22695412e-02,  2.52542011e-02,\n",
       "        -2.95264032e-02, -1.22712413e-02, -1.14217699e-02,\n",
       "        -9.44960024e-03,  1.85265733e-07, -3.20790373e-02,\n",
       "         2.90722419e-02,  1.50097935e-02,  4.58585098e-02,\n",
       "        -4.58981097e-02,  8.51313993e-02,  1.87606048e-02,\n",
       "        -7.52923405e-03, -9.47739929e-03,  2.20604911e-02,\n",
       "        -1.64591912e-02,  1.37806302e-02, -5.93538443e-03,\n",
       "         1.98826008e-02, -1.72281824e-02, -5.15167601e-02,\n",
       "         7.51994327e-02, -2.18111351e-02,  1.30774133e-05,\n",
       "        -4.08614613e-02, -2.18480360e-02,  7.75561035e-02,\n",
       "         6.59542978e-02,  3.45364213e-02,  6.32865774e-03,\n",
       "        -3.45287286e-02,  2.41718236e-02, -5.22142574e-02,\n",
       "        -4.00031218e-03, -4.70077097e-02, -7.21938489e-03,\n",
       "        -6.05985709e-02, -4.96256491e-03, -1.06796864e-02,\n",
       "         3.90088037e-02, -4.15896857e-03,  5.15687503e-02,\n",
       "         1.44929970e-02,  8.72989837e-03,  5.83562143e-02,\n",
       "        -4.20900434e-02, -3.73957236e-03, -4.08154465e-02,\n",
       "        -3.81657481e-02,  2.13405886e-03,  3.52093019e-03,\n",
       "        -6.06537610e-03, -2.75366511e-02, -1.17570739e-02,\n",
       "        -2.33171647e-03,  2.78419424e-02, -2.67389063e-02,\n",
       "         2.94055641e-02, -3.15134078e-02, -4.89009824e-03,\n",
       "        -3.41905863e-03,  4.42338623e-02,  1.56635586e-02,\n",
       "         1.01598185e-02, -8.11969787e-02, -8.73331192e-06,\n",
       "         4.35417034e-02, -3.40959709e-03,  1.32463709e-01,\n",
       "        -5.27367592e-02,  4.36557345e-02,  3.99109535e-02,\n",
       "         6.80548666e-35,  2.35433336e-02, -4.56788987e-02,\n",
       "        -3.64246070e-02,  3.97049934e-02, -2.14084145e-02,\n",
       "        -1.54702622e-03,  9.18157473e-02, -7.23868236e-03,\n",
       "         7.68454466e-03,  2.62084659e-02, -2.25903583e-03]], dtype=float32)"
      ]
     },
     "execution_count": 12,
     "metadata": {},
     "output_type": "execute_result"
    }
   ],
   "source": [
    "import numpy as np\n",
    "svec = np.array(vec).reshape(1,-1)\n",
    "svec"
   ]
  },
  {
   "cell_type": "markdown",
   "metadata": {},
   "source": [
    "<h3>Step 5: Search for similar vector in the FAISS index created</h3>"
   ]
  },
  {
   "cell_type": "code",
   "execution_count": 13,
   "metadata": {},
   "outputs": [
    {
     "data": {
      "text/plain": [
       "array([[3, 2]])"
      ]
     },
     "execution_count": 13,
     "metadata": {},
     "output_type": "execute_result"
    }
   ],
   "source": [
    "distances, i = index.search(svec, k=2)\n",
    "i"
   ]
  },
  {
   "cell_type": "code",
   "execution_count": 14,
   "metadata": {},
   "outputs": [
    {
     "data": {
      "text/html": [
       "<div>\n",
       "<style scoped>\n",
       "    .dataframe tbody tr th:only-of-type {\n",
       "        vertical-align: middle;\n",
       "    }\n",
       "\n",
       "    .dataframe tbody tr th {\n",
       "        vertical-align: top;\n",
       "    }\n",
       "\n",
       "    .dataframe thead th {\n",
       "        text-align: right;\n",
       "    }\n",
       "</style>\n",
       "<table border=\"1\" class=\"dataframe\">\n",
       "  <thead>\n",
       "    <tr style=\"text-align: right;\">\n",
       "      <th></th>\n",
       "      <th>text</th>\n",
       "      <th>category</th>\n",
       "    </tr>\n",
       "  </thead>\n",
       "  <tbody>\n",
       "    <tr>\n",
       "      <th>3</th>\n",
       "      <td>Vibrant color jeans for male are becoming a trend</td>\n",
       "      <td>Fashion</td>\n",
       "    </tr>\n",
       "    <tr>\n",
       "      <th>2</th>\n",
       "      <td>These are the latest fashion trends for this week</td>\n",
       "      <td>Fashion</td>\n",
       "    </tr>\n",
       "  </tbody>\n",
       "</table>\n",
       "</div>"
      ],
      "text/plain": [
       "                                                text category\n",
       "3  Vibrant color jeans for male are becoming a trend  Fashion\n",
       "2  These are the latest fashion trends for this week  Fashion"
      ]
     },
     "execution_count": 14,
     "metadata": {},
     "output_type": "execute_result"
    }
   ],
   "source": [
    "df.loc[i[0]]"
   ]
  },
  {
   "cell_type": "code",
   "execution_count": 16,
   "metadata": {},
   "outputs": [
    {
     "data": {
      "text/plain": [
       "'I want to buy a polo t-shirt'"
      ]
     },
     "execution_count": 16,
     "metadata": {},
     "output_type": "execute_result"
    }
   ],
   "source": [
    "search_query"
   ]
  }
 ],
 "metadata": {
  "kernelspec": {
   "display_name": "venv",
   "language": "python",
   "name": "python3"
  },
  "language_info": {
   "codemirror_mode": {
    "name": "ipython",
    "version": 3
   },
   "file_extension": ".py",
   "mimetype": "text/x-python",
   "name": "python",
   "nbconvert_exporter": "python",
   "pygments_lexer": "ipython3",
   "version": "3.11.7"
  }
 },
 "nbformat": 4,
 "nbformat_minor": 2
}
